{
  "nbformat": 4,
  "nbformat_minor": 0,
  "metadata": {
    "colab": {
      "provenance": [],
      "gpuType": "T4",
      "authorship_tag": "ABX9TyPrW5B2b+uV1vDgVrLuamsd",
      "include_colab_link": true
    },
    "kernelspec": {
      "name": "python3",
      "display_name": "Python 3"
    },
    "language_info": {
      "name": "python"
    },
    "accelerator": "GPU"
  },
  "cells": [
    {
      "cell_type": "markdown",
      "metadata": {
        "id": "view-in-github",
        "colab_type": "text"
      },
      "source": [
        "<a href=\"https://colab.research.google.com/github/daniellaeme/Face-Mask-Detection/blob/main/Face_Mask_Detection.ipynb\" target=\"_parent\"><img src=\"https://colab.research.google.com/assets/colab-badge.svg\" alt=\"Open In Colab\"/></a>"
      ]
    },
    {
      "cell_type": "code",
      "execution_count": 1,
      "metadata": {
        "id": "4_UaJ9u2zCju"
      },
      "outputs": [],
      "source": [
        "import numpy as np\n",
        "import matplotlib.pyplot as plt\n",
        "\n",
        "from tensorflow.keras.preprocessing.image import ImageDataGenerator\n",
        "from tensorflow.keras.models import Sequential\n",
        "from tensorflow.keras.layers import Conv2D, MaxPooling2D, Flatten, Dropout, Dense\n",
        "from tensorflow.keras.callbacks import ModelCheckpoint"
      ]
    },
    {
      "cell_type": "code",
      "source": [
        "import requests\n",
        "import zipfile\n",
        "\n",
        "url = \"https://data-flair.s3.ap-south-1.amazonaws.com/Data-Science-Data/face-mask-dataset.zip\"\n",
        "response = requests.get(url)\n",
        "\n",
        "with open(\"face_mask_detection.zip\", \"wb\") as f:\n",
        "    f.write(response.content)\n",
        "\n",
        "with zipfile.ZipFile(\"face_mask_detection.zip\", \"r\") as zip_file:\n",
        "    zip_file.extractall()\n",
        "\n",
        "import os\n",
        "os.remove(\"face_mask_detection.zip\")"
      ],
      "metadata": {
        "id": "M-raTTQy6SjT"
      },
      "execution_count": 2,
      "outputs": []
    },
    {
      "cell_type": "code",
      "source": [
        "zipped_files = ['/content/Dataset/train.zip', '/content/Dataset/test.zip']\n",
        "\n",
        "for zipped_file in zipped_files:\n",
        "  with zipfile.ZipFile(zipped_file, \"r\") as zip_file:\n",
        "    zip_file.extractall()"
      ],
      "metadata": {
        "id": "xQTj6ip97GwX"
      },
      "execution_count": 3,
      "outputs": []
    },
    {
      "cell_type": "code",
      "source": [
        "BATCH_SIZE = 10\n",
        "\n",
        "train_dir = './train'\n",
        "\n",
        "train_datagen = ImageDataGenerator(rescale=1./255,\n",
        "                                   rotation_range=45,\n",
        "                                   width_shift_range=0.2,\n",
        "                                   height_shift_range=0.2,\n",
        "                                   shear_range=0.2,\n",
        "                                   zoom_range=0.2,\n",
        "                                   horizontal_flip=True,\n",
        "                                   fill_mode='nearest')\n",
        "\n",
        "train_generator = train_datagen.flow_from_directory(train_dir,\n",
        "                                                    batch_size=BATCH_SIZE,\n",
        "                                                    target_size=(150, 150))\n",
        "\n",
        "validation_dir = './test'\n",
        "\n",
        "validation_datagen = ImageDataGenerator(rescale=1./255)\n",
        "validation_generator = validation_datagen.flow_from_directory(validation_dir,\n",
        "                                                  batch_size=BATCH_SIZE,\n",
        "                                                  target_size=(150, 150))"
      ],
      "metadata": {
        "id": "W9iYD8_hzY5x",
        "colab": {
          "base_uri": "https://localhost:8080/"
        },
        "outputId": "5485a8ce-872c-4651-dbc1-e0b3a5123765"
      },
      "execution_count": 4,
      "outputs": [
        {
          "output_type": "stream",
          "name": "stdout",
          "text": [
            "Found 1315 images belonging to 2 classes.\n",
            "Found 194 images belonging to 2 classes.\n"
          ]
        }
      ]
    },
    {
      "cell_type": "markdown",
      "source": [
        "# Model Development"
      ],
      "metadata": {
        "id": "aWpCbNqG-hlQ"
      }
    },
    {
      "cell_type": "code",
      "source": [
        "model = Sequential([\n",
        "    Conv2D(100, (3, 3), activation='relu', input_shape=(150, 150, 3)),\n",
        "    MaxPooling2D(2, 2),\n",
        "\n",
        "    Conv2D(100, (3, 3), activation='relu'),\n",
        "    MaxPooling2D(2, 2),\n",
        "\n",
        "    Flatten(),\n",
        "    Dropout(0.5),\n",
        "    Dense(50, activation='relu'),\n",
        "    Dense(2, activation='softmax'),\n",
        "])\n",
        "model.summary()"
      ],
      "metadata": {
        "id": "3Qh_oNsA3CAf",
        "colab": {
          "base_uri": "https://localhost:8080/"
        },
        "outputId": "b1b414b6-ae8f-4c0c-81fd-fe979f389f36"
      },
      "execution_count": 5,
      "outputs": [
        {
          "output_type": "stream",
          "name": "stdout",
          "text": [
            "Model: \"sequential\"\n",
            "_________________________________________________________________\n",
            " Layer (type)                Output Shape              Param #   \n",
            "=================================================================\n",
            " conv2d (Conv2D)             (None, 148, 148, 100)     2800      \n",
            "                                                                 \n",
            " max_pooling2d (MaxPooling2  (None, 74, 74, 100)       0         \n",
            " D)                                                              \n",
            "                                                                 \n",
            " conv2d_1 (Conv2D)           (None, 72, 72, 100)       90100     \n",
            "                                                                 \n",
            " max_pooling2d_1 (MaxPoolin  (None, 36, 36, 100)       0         \n",
            " g2D)                                                            \n",
            "                                                                 \n",
            " flatten (Flatten)           (None, 129600)            0         \n",
            "                                                                 \n",
            " dropout (Dropout)           (None, 129600)            0         \n",
            "                                                                 \n",
            " dense (Dense)               (None, 50)                6480050   \n",
            "                                                                 \n",
            " dense_1 (Dense)             (None, 2)                 102       \n",
            "                                                                 \n",
            "=================================================================\n",
            "Total params: 6573052 (25.07 MB)\n",
            "Trainable params: 6573052 (25.07 MB)\n",
            "Non-trainable params: 0 (0.00 Byte)\n",
            "_________________________________________________________________\n"
          ]
        }
      ]
    },
    {
      "cell_type": "code",
      "source": [
        "model.compile(optimizer='adam',\n",
        "              loss='binary_crossentropy',\n",
        "              metrics=['acc'])"
      ],
      "metadata": {
        "id": "hEuWD-n8uKv7"
      },
      "execution_count": 6,
      "outputs": []
    },
    {
      "cell_type": "code",
      "source": [
        "checkpoint = ModelCheckpoint('model2-{epoch:03d}.model',\n",
        "                             monitor='val_loss',\n",
        "                             verbose=0,\n",
        "                             save_best_only=True,\n",
        "                             mode='auto')"
      ],
      "metadata": {
        "id": "SbwW5ThLs_Mz"
      },
      "execution_count": 7,
      "outputs": []
    },
    {
      "cell_type": "code",
      "source": [
        "EPOCHS = 10\n",
        "\n",
        "history = model.fit(train_generator,\n",
        "                    epochs=EPOCHS,\n",
        "                    validation_data=validation_generator,\n",
        "                    callbacks=[checkpoint])"
      ],
      "metadata": {
        "id": "Z-QFrSMetByO",
        "colab": {
          "base_uri": "https://localhost:8080/"
        },
        "outputId": "66080b90-561e-412c-b841-3b9128600c06"
      },
      "execution_count": 8,
      "outputs": [
        {
          "output_type": "stream",
          "name": "stdout",
          "text": [
            "Epoch 1/10\n",
            "132/132 [==============================] - 26s 102ms/step - loss: 0.6410 - acc: 0.6380 - val_loss: 0.3254 - val_acc: 0.8711\n",
            "Epoch 2/10\n",
            "132/132 [==============================] - 13s 99ms/step - loss: 0.3780 - acc: 0.8563 - val_loss: 0.1352 - val_acc: 0.9691\n",
            "Epoch 3/10\n",
            "132/132 [==============================] - 13s 101ms/step - loss: 0.3458 - acc: 0.8471 - val_loss: 0.1158 - val_acc: 0.9691\n",
            "Epoch 4/10\n",
            "132/132 [==============================] - 13s 100ms/step - loss: 0.2728 - acc: 0.8958 - val_loss: 0.0781 - val_acc: 0.9742\n",
            "Epoch 5/10\n",
            "132/132 [==============================] - 12s 93ms/step - loss: 0.2397 - acc: 0.9065 - val_loss: 0.0844 - val_acc: 0.9639\n",
            "Epoch 6/10\n",
            "132/132 [==============================] - 14s 105ms/step - loss: 0.2120 - acc: 0.9202 - val_loss: 0.0634 - val_acc: 0.9742\n",
            "Epoch 7/10\n",
            "132/132 [==============================] - 14s 106ms/step - loss: 0.1863 - acc: 0.9202 - val_loss: 0.0571 - val_acc: 0.9948\n",
            "Epoch 8/10\n",
            "132/132 [==============================] - 13s 98ms/step - loss: 0.1951 - acc: 0.9293 - val_loss: 0.0560 - val_acc: 0.9742\n",
            "Epoch 9/10\n",
            "132/132 [==============================] - 13s 101ms/step - loss: 0.1531 - acc: 0.9430 - val_loss: 0.0552 - val_acc: 0.9691\n",
            "Epoch 10/10\n",
            "132/132 [==============================] - 13s 100ms/step - loss: 0.1812 - acc: 0.9293 - val_loss: 0.0454 - val_acc: 0.9897\n"
          ]
        }
      ]
    },
    {
      "cell_type": "markdown",
      "source": [
        "# Accuracy"
      ],
      "metadata": {
        "id": "ixkUwBDB-d0P"
      }
    },
    {
      "cell_type": "code",
      "source": [
        "train_accuracy = model.history.history['acc']\n",
        "val_accuracy = model.history.history['val_acc']\n",
        "\n",
        "plt.plot(train_accuracy, label='training accuracy')\n",
        "plt.plot(val_accuracy, label='validation accuracy')\n",
        "\n",
        "plt.title('Model Accuracy')\n",
        "plt.xlabel('Epoch')\n",
        "plt.ylabel('Accuracy')\n",
        "plt.legend()\n",
        "plt.show()"
      ],
      "metadata": {
        "id": "y-eJzi7c_Y2Y",
        "colab": {
          "base_uri": "https://localhost:8080/",
          "height": 472
        },
        "outputId": "6a117b1b-15b1-4293-af00-59868313d217"
      },
      "execution_count": 9,
      "outputs": [
        {
          "output_type": "display_data",
          "data": {
            "text/plain": [
              "<Figure size 640x480 with 1 Axes>"
            ],
            "image/png": "[encoded data removed]"
          },
          "metadata": {}
        }
      ]
    },
    {
      "cell_type": "markdown",
      "source": [
        "Training accuracy = 92.93%\n",
        "Validation accuracy = 98.97%"
      ],
      "metadata": {
        "id": "ezvBuk-vype8"
      }
    },
    {
      "cell_type": "markdown",
      "source": [
        "# Save Model"
      ],
      "metadata": {
        "id": "xOCCwedyAxIe"
      }
    },
    {
      "cell_type": "code",
      "source": [
        "model.save('face_mask_detection_model.h5')"
      ],
      "metadata": {
        "id": "leKDoTbcAwHr",
        "colab": {
          "base_uri": "https://localhost:8080/"
        },
        "outputId": "111d4b48-9050-4a28-f373-4ae6ce29d748"
      },
      "execution_count": 11,
      "outputs": [
        {
          "output_type": "stream",
          "name": "stderr",
          "text": [
            "/usr/local/lib/python3.10/dist-packages/keras/src/engine/training.py:3000: UserWarning: You are saving your model as an HDF5 file via `model.save()`. This file format is considered legacy. We recommend using instead the native Keras format, e.g. `model.save('my_model.keras')`.\n",
            "  saving_api.save_model(\n"
          ]
        }
      ]
    }
  ]
}